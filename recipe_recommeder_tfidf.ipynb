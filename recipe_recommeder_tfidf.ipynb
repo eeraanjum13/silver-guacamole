{
  "cells": [
    {
      "cell_type": "markdown",
      "metadata": {},
      "source": [
        "### This is a training file"
      ]
    },
    {
      "cell_type": "code",
      "execution_count": 1,
      "metadata": {
        "id": "LiF41NXc3e25"
      },
      "outputs": [],
      "source": [
        "import pandas as pd\n",
        "from sklearn.feature_extraction.text import TfidfVectorizer\n",
        "import pickle\n",
        "from sklearn.metrics.pairwise import cosine_similarity\n",
        "#from ingredient_parser import ingredient_parser\n",
        "import re\n",
        "import pickle\n",
        " "
      ]
    },
    {
      "cell_type": "code",
      "execution_count": 2,
      "metadata": {
        "colab": {
          "base_uri": "https://localhost:8080/"
        },
        "id": "vYzPlhqr3_ta",
        "outputId": "1cdfe22a-f571-4d67-9f74-045562d496b9"
      },
      "outputs": [],
      "source": [
        "# Dataset loading and saving as Dataframe\n",
        "# !unzip Cleaned_Indian_Food_Dataset.csv.zip\n",
        "df = pd.read_csv('Cleaned_Indian_Food_Dataset.csv')"
      ]
    },
    {
      "cell_type": "markdown",
      "metadata": {
        "id": "OqMfaj1n4OO4"
      },
      "source": [
        "### TF_IDF "
      ]
    },
    {
      "cell_type": "code",
      "execution_count": 3,
      "metadata": {
        "id": "4ZrvHIU34Jad"
      },
      "outputs": [],
      "source": [
        "tfidf = TfidfVectorizer()\n",
        "tfidf.fit(df['Cleaned-Ingredients']) #vectorizer Object\n",
        "tfidf_r = tfidf.fit_transform(df['Cleaned-Ingredients']) # sparse matrix of tf-idf values of the vocab\n",
        "                                                        # in the raw document\n"
      ]
    },
    {
      "cell_type": "code",
      "execution_count": 4,
      "metadata": {
        "colab": {
          "base_uri": "https://localhost:8080/"
        },
        "id": "MUeLzyTp5CZJ",
        "outputId": "79b50932-a694-4b29-c0f6-e975670eee71"
      },
      "outputs": [
        {
          "name": "stdout",
          "output_type": "stream",
          "text": [
            "Unique Features (words) from the Ingredients are : 2385\n",
            "Number of rows in the Dataframe : 5938\n"
          ]
        }
      ],
      "source": [
        "print(f'Unique Features (words) from the Ingredients are : {len(tfidf_r.toarray()[0])}')\n",
        "print(f'Number of rows in the Dataframe : {len(tfidf_r.toarray())}')"
      ]
    },
    {
      "cell_type": "code",
      "execution_count": 15,
      "metadata": {
        "id": "lWcWJ8v7KeNB"
      },
      "outputs": [],
      "source": [
        "# save vectorizer\n",
        "\n",
        "with open(\"tfidf_vec.pkl\", \"wb\") as f:\n",
        "  pickle.dump(tfidf, f)\n"
      ]
    },
    {
      "cell_type": "code",
      "execution_count": 16,
      "metadata": {
        "id": "Z-r3OgcTNWCn"
      },
      "outputs": [],
      "source": [
        "# save tfidf_encoder\n",
        "\n",
        "with open(\"tfidf_en.pkl\", \"wb\") as f:\n",
        "  pickle.dump(tfidf_r, f)"
      ]
    },
    {
      "cell_type": "markdown",
      "metadata": {
        "id": "lTc3-XZs5c_W"
      },
      "source": [
        "### User Input"
      ]
    },
    {
      "cell_type": "code",
      "execution_count": 8,
      "metadata": {
        "colab": {
          "base_uri": "https://localhost:8080/"
        },
        "id": "RwhgN6cs4rSU",
        "outputId": "c5d630ac-9617-4ad2-a9fa-4eefdb858b91"
      },
      "outputs": [],
      "source": [
        "user_ing = input()\n",
        "ing_user = tfidf.transform([user_ing])\n",
        "\n",
        "scoring = cosine_similarity(ing_user, tfidf_r) # second param gets transposed for dot calculation\n",
        "scoring = list(scoring[0]) # given it has only one input each session"
      ]
    },
    {
      "cell_type": "code",
      "execution_count": 9,
      "metadata": {
        "colab": {
          "base_uri": "https://localhost:8080/"
        },
        "id": "ABtCekf06kx3",
        "outputId": "37b87745-e881-4fb1-cb76-0ba0621246b3"
      },
      "outputs": [
        {
          "name": "stdout",
          "output_type": "stream",
          "text": [
            "Highest :0.5143193693875535, index is 1528\n"
          ]
        }
      ],
      "source": [
        "\n",
        "max_idx = scoring.index(max(scoring))\n",
        "\n",
        "print(f'Highest :{max(scoring)}, index is {max_idx}')"
      ]
    },
    {
      "cell_type": "code",
      "execution_count": 10,
      "metadata": {
        "colab": {
          "base_uri": "https://localhost:8080/"
        },
        "id": "uGr9nDci8q2V",
        "outputId": "d7a48f73-0b3f-416f-f9c8-160e909aa2ae"
      },
      "outputs": [
        {
          "data": {
            "text/plain": [
              "[0.5143193693875535, 0.430269972309515, 0.3942177331432274]"
            ]
          },
          "execution_count": 10,
          "metadata": {},
          "output_type": "execute_result"
        }
      ],
      "source": [
        "sorted(scoring, reverse=True)[:3] # reverse does descending order\n"
      ]
    },
    {
      "cell_type": "code",
      "execution_count": null,
      "metadata": {
        "colab": {
          "base_uri": "https://localhost:8080/"
        },
        "id": "ODM6nxMN5f7l",
        "outputId": "6c88331c-2bb2-413e-83d8-46bf715f4dbe"
      },
      "outputs": [
        {
          "name": "stdout",
          "output_type": "stream",
          "text": [
            "What's in your fridge? chicken, rice\n"
          ]
        }
      ],
      "source": [
        "user_ing = input(\"What's in your fridge? \")"
      ]
    },
    {
      "cell_type": "markdown",
      "metadata": {
        "id": "j4kqxikGFcPw"
      },
      "source": []
    },
    {
      "cell_type": "markdown",
      "metadata": {
        "id": "azSYGRR1FcHB"
      },
      "source": [
        "## Recommender"
      ]
    },
    {
      "cell_type": "code",
      "execution_count": 18,
      "metadata": {
        "id": "rpQBZrF6Neyy"
      },
      "outputs": [],
      "source": [
        "with open('tfidf_vec.pkl', 'rb') as f:\n",
        "  tfidf_vec = pickle.load(f)\n",
        "\n",
        "with open('tfidf_en.pkl', 'rb') as f:\n",
        "  tfidf_en = pickle.load(f)"
      ]
    },
    {
      "cell_type": "code",
      "execution_count": 19,
      "metadata": {
        "id": "My0bmP2tAv-U"
      },
      "outputs": [],
      "source": [
        "def get_cos_sim(user_input_encoded, tfidf_encoded): # returns scores\n",
        "  scores = cosine_similarity(user_input_encoded, tfidf_encoded)\n",
        "  scores = list(scores[0])\n",
        "  return scores"
      ]
    },
    {
      "cell_type": "code",
      "execution_count": 20,
      "metadata": {
        "id": "I_Y5CAcH528E"
      },
      "outputs": [],
      "source": [
        "def get_top_scores(scores, top_N): # returns sorted N scores as list\n",
        "\n",
        "  top_sorted_scores = sorted(scores, reverse=True)[:top_N]\n",
        "\n",
        "  idx_list = [scores.index(i) for i in top_sorted_scores] # get list of indexes with high scores\n",
        "  return idx_list\n"
      ]
    },
    {
      "cell_type": "code",
      "execution_count": 21,
      "metadata": {
        "id": "BiIVJ8z9_KNR"
      },
      "outputs": [],
      "source": [
        "def get_recommendation(df, top_N):\n",
        "\n",
        "  user_ing = input(\"What's in your fridge? \")\n",
        "  ing_user = tfidf_vec.transform([user_ing])\n",
        "  scores = get_cos_sim(ing_user, tfidf_en)\n",
        "  top_idx_list = get_top_scores(scores, top_N)\n",
        "  recommendations = [ df['TranslatedRecipeName'][i] for i in top_idx_list ]  \n",
        "  rec_instructions = [ df['TranslatedInstructions'][i] for i in top_idx_list ]\n",
        "  rec_ingredients = [ df['TranslatedIngredients'][i] for i in top_idx_list ]\n",
        "  return recommendations, rec_instructions, rec_ingredients"
      ]
    },
    {
      "cell_type": "markdown",
      "metadata": {
        "id": "NRvceZd9L7u6"
      },
      "source": []
    },
    {
      "cell_type": "code",
      "execution_count": 22,
      "metadata": {
        "colab": {
          "base_uri": "https://localhost:8080/"
        },
        "id": "NOinzvqE-fRY",
        "outputId": "8af90955-e065-4a64-83c7-b760515ca08b"
      },
      "outputs": [
        {
          "name": "stdout",
          "output_type": "stream",
          "text": [
            "What's in your fridge? chicken, rice\n"
          ]
        }
      ],
      "source": [
        "recommendations, rec_instructions, rec_ingredients = get_recommendation(df, 3)"
      ]
    },
    {
      "cell_type": "code",
      "execution_count": 23,
      "metadata": {
        "colab": {
          "base_uri": "https://localhost:8080/"
        },
        "id": "OS7bHUj8G-6U",
        "outputId": "e1aa6dcc-0e93-402f-d400-54ec2dcd78ee"
      },
      "outputs": [
        {
          "data": {
            "text/plain": [
              "['Chicken In Tomato Onion Gravy Recipe',\n",
              " 'Dragon Chicken Sizzler Recipe',\n",
              " 'Sel Roti Recipe (Nepalese ring-Shaped Sweet bread)']"
            ]
          },
          "execution_count": 23,
          "metadata": {},
          "output_type": "execute_result"
        }
      ],
      "source": [
        "recommendations"
      ]
    },
    {
      "cell_type": "code",
      "execution_count": 24,
      "metadata": {
        "colab": {
          "base_uri": "https://localhost:8080/"
        },
        "id": "VT1axMCOGsId",
        "outputId": "1cdb7d68-d009-4f57-aec5-19749d2a308d"
      },
      "outputs": [
        {
          "name": "stdout",
          "output_type": "stream",
          "text": [
            "You can try recipe(s): ['Chicken In Tomato Onion Gravy Recipe', 'Dragon Chicken Sizzler Recipe', 'Sel Roti Recipe (Nepalese ring-Shaped Sweet bread)']\n"
          ]
        }
      ],
      "source": [
        "print(f'You can try recipe(s): {recommendations}')"
      ]
    },
    {
      "cell_type": "code",
      "execution_count": 25,
      "metadata": {
        "colab": {
          "base_uri": "https://localhost:8080/",
          "height": 196
        },
        "id": "TMb3IPUSGMER",
        "outputId": "660e0d64-ab44-4888-e013-f09e59785fed"
      },
      "outputs": [
        {
          "data": {
            "application/vnd.google.colaboratory.intrinsic+json": {
              "type": "string"
            },
            "text/plain": [
              "'To begin making Chicken In Tomato Onion Gravy Recipe, take onions, green chillies and tomatoes (de seeded) in a mixer jar and grind to a smooth paste.In a pressure cooker, add the onion-chilli and tomato paste, curd, salt, chicken masala powder, lemon juice and ginger garlic paste.\\nStir to combine.Add the chicken pieces and about half cup of water and close the lid of the pressure cooker and cook on high flame for about 3 whistles or till the chicken is cooked till tender.Once the pressure is released on its own, heat a bit of oil in a kadai and once the oil is hot, transfer the gravy of the cooked chicken from the pressure cooker.\\nRetain the cooked chicken in the pressure cooker.\\nyou may do this by refraining the chicken with a slotted spoon while pouring the gravy.Cook for a few minutes while stirring, till the gravy starts bubbling and thickening.Once the gravy is thickened to desired consistency, add the chicken pieces to the kadai, close a lid and cook on a low flame for about 5 minutes or till the flavours seep in a bit more in the chicken pieces.Garnish with chopped coriander leaves and serv.\\nServe Chicken In Tomato Onion Gravy Recipe along with Homemade Butter Naan Recipe (Soft Yogurt Bread) or Jeera Rice Recipe - Cumin And Ghee Flavored Rice and Pickled Onions for a complete meal.'"
            ]
          },
          "execution_count": 25,
          "metadata": {},
          "output_type": "execute_result"
        }
      ],
      "source": [
        "rec_instructions[0]"
      ]
    },
    {
      "cell_type": "code",
      "execution_count": null,
      "metadata": {
        "id": "DcHFTopKHUSS"
      },
      "outputs": [],
      "source": []
    }
  ],
  "metadata": {
    "colab": {
      "collapsed_sections": [
        "lTc3-XZs5c_W"
      ],
      "name": "recipe_recommeder_tfidf.ipynb",
      "provenance": []
    },
    "kernelspec": {
      "display_name": "clf",
      "language": "python",
      "name": "python3"
    },
    "language_info": {
      "codemirror_mode": {
        "name": "ipython",
        "version": 3
      },
      "file_extension": ".py",
      "mimetype": "text/x-python",
      "name": "python",
      "nbconvert_exporter": "python",
      "pygments_lexer": "ipython3",
      "version": "3.8.13"
    }
  },
  "nbformat": 4,
  "nbformat_minor": 0
}
